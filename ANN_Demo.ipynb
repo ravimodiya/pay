{
 "cells": [
  {
   "cell_type": "code",
   "execution_count": 35,
   "id": "d2bc3cf2-68fb-412f-90e4-673bb3fbdc8b",
   "metadata": {},
   "outputs": [],
   "source": [
    "# Creating data set\n",
    "\n",
    "# A\n",
    "a =[0, 0, 1, 1, 0, 0,\n",
    "   0, 1, 0, 0, 1, 0,\n",
    "   1, 1, 1, 1, 1, 1,\n",
    "   1, 0, 0, 0, 0, 1,\n",
    "   1, 0, 0, 0, 0, 1]\n",
    "# B\n",
    "b =[0, 1, 1, 1, 1, 0,\n",
    "   0, 1, 0, 0, 1, 0,\n",
    "   0, 1, 1, 1, 1, 0,\n",
    "   0, 1, 0, 0, 1, 0,\n",
    "   0, 1, 1, 1, 1, 0]\n",
    "# C\n",
    "c =[0, 1, 1, 1, 1, 0,\n",
    "   0, 1, 0, 0, 0, 0,\n",
    "   0, 1, 0, 0, 0, 0,\n",
    "   0, 1, 0, 0, 0, 0,\n",
    "   0, 1, 1, 1, 1, 0]\n",
    "\n",
    "# Creating labels\n",
    "y =[[1, 0, 0],\n",
    "   [0, 1, 0],\n",
    "   [0, 0, 1]]"
   ]
  },
  {
   "cell_type": "code",
   "execution_count": 37,
   "id": "abfe1bf1-873b-4a6c-9ad0-5efaef933a51",
   "metadata": {},
   "outputs": [
    {
     "data": {
      "image/png": "[encoded data removed]",
      "text/plain": [
       "<Figure size 640x480 with 1 Axes>"
      ]
     },
     "metadata": {},
     "output_type": "display_data"
    }
   ],
   "source": [
    "import numpy as np\n",
    "import matplotlib.pyplot as plt\n",
    "\n",
    "# visualizing the data, plotting A.\n",
    "plt.imshow(np.array(a).reshape(5, 6))\n",
    "plt.show()"
   ]
  },
  {
   "cell_type": "code",
   "execution_count": 39,
   "id": "473683ef-7c37-4857-9054-1d657cf54379",
   "metadata": {},
   "outputs": [
    {
     "name": "stdout",
     "output_type": "stream",
     "text": [
      "[array([[0, 0, 1, 1, 0, 0, 0, 1, 0, 0, 1, 0, 1, 1, 1, 1, 1, 1, 1, 0, 0, 0,\n",
      "        0, 1, 1, 0, 0, 0, 0, 1]]), array([[0, 1, 1, 1, 1, 0, 0, 1, 0, 0, 1, 0, 0, 1, 1, 1, 1, 0, 0, 1, 0, 0,\n",
      "        1, 0, 0, 1, 1, 1, 1, 0]]), array([[0, 1, 1, 1, 1, 0, 0, 1, 0, 0, 0, 0, 0, 1, 0, 0, 0, 0, 0, 1, 0, 0,\n",
      "        0, 0, 0, 1, 1, 1, 1, 0]])] \n",
      "\n",
      " [[1 0 0]\n",
      " [0 1 0]\n",
      " [0 0 1]]\n"
     ]
    }
   ],
   "source": [
    "# converting data and labels into numpy array\n",
    "x =[np.array(a).reshape(1, 30), np.array(b).reshape(1, 30), \n",
    "                                np.array(c).reshape(1, 30)]\n",
    "y = np.array(y)\n",
    "# Printing data and labels\n",
    "print(x, \"\\n\\n\", y)"
   ]
  },
  {
   "cell_type": "code",
   "execution_count": 41,
   "id": "ed3d2ad8-87c7-431e-9cd1-d488b2f8548e",
   "metadata": {},
   "outputs": [],
   "source": [
    "# activation function\n",
    "def sigmoid(x):\n",
    "\treturn(1/(1 + np.exp(-x)))\n",
    "\n",
    "# Creating the Feed forward neural network\n",
    "def f_forward(x, w1, w2):\n",
    "\t# hidden\n",
    "\tz1 = x.dot(w1)    # input from layer 1 \n",
    "\ta1 = sigmoid(z1)  # out put of layer 2 \n",
    "\tz2 = a1.dot(w2)   # input of out layer\n",
    "\ta2 = sigmoid(z2)  # output of out layer\n",
    "\treturn(a2)\n",
    "\n",
    "# initializing the weights randomly\n",
    "def generate_wt(x, y):\n",
    "\tli =[]\n",
    "\tfor i in range(x * y):\n",
    "\t\tli.append(np.random.randn())\n",
    "\treturn(np.array(li).reshape(x, y))\n",
    "\t\n",
    "# for loss we will be using mean square error(MSE)\n",
    "def loss(out, Y):\n",
    "\ts =(np.square(out-Y))\n",
    "\ts = np.sum(s)/len(y)\n",
    "\treturn(s)\n",
    "\n",
    "# Back propagation of error \n",
    "def back_prop(x, y, w1, w2, alpha):\n",
    "\t\n",
    "\t# hidden layer\n",
    "\tz1 = x.dot(w1)\n",
    "\ta1 = sigmoid(z1) \n",
    "\tz2 = a1.dot(w2)\n",
    "\ta2 = sigmoid(z2)\n",
    "\t\n",
    "\t# error in output layer\n",
    "\td2 =(a2-y)\n",
    "\td1 = np.multiply((w2.dot((d2.transpose()))).transpose(), \n",
    "\t\t\t\t\t\t\t\t(np.multiply(a1, 1-a1)))\n",
    "\t# Gradient for w1 and w2\n",
    "\tw1_adj = x.transpose().dot(d1)\n",
    "\tw2_adj = a1.transpose().dot(d2)\n",
    "\t\n",
    "\t# Updating parameters\n",
    "\tw1 = w1-(alpha*(w1_adj))\n",
    "\tw2 = w2-(alpha*(w2_adj))\n",
    "\t\n",
    "\treturn(w1, w2)"
   ]
  },
  {
   "cell_type": "code",
   "execution_count": 43,
   "id": "24956eed-91eb-494f-9c41-4cce8d92f11b",
   "metadata": {},
   "outputs": [
    {
     "name": "stdout",
     "output_type": "stream",
     "text": [
      "[[ 0.38188051 -1.34497692 -1.12143995 -0.66837775 -0.08134217]\n",
      " [ 0.8565131   0.45836153 -0.08923384 -0.6612301   1.27286165]\n",
      " [ 0.06879872  1.44942965  0.56574036 -1.0289778  -0.13870308]\n",
      " [ 1.27618129  0.49537887 -0.61720719 -0.07651444 -0.41669446]\n",
      " [-0.17032058  0.86256759  1.63625126  2.47515809  0.08755941]\n",
      " [ 0.62024692  0.72786955  0.08814189 -1.61117577  1.53527859]\n",
      " [ 0.23605893  0.89849276 -0.79283929  1.98467208 -0.79160714]\n",
      " [ 1.4375205  -0.63259662  0.20586745  1.10679526 -1.03156942]\n",
      " [ 0.01285836  0.63819648 -0.86046593  0.72946717  0.53757388]\n",
      " [-0.5614602   1.21562121 -0.09204023 -0.68758246 -0.27575416]\n",
      " [-0.35215345 -0.54405322  0.06953114  0.03517779  0.36282185]\n",
      " [-0.27592032 -0.18892595 -0.27146091  0.02661047  0.29376818]\n",
      " [-0.87336672  0.84924134 -2.06332751  1.17705103 -0.01242425]\n",
      " [ 0.31568559  0.4133931  -0.23717768  1.31129268  0.29013689]\n",
      " [-0.74721041  0.50411916 -1.13157961 -0.35787569  1.35559746]\n",
      " [-0.41531678 -0.79270241 -0.00879913  1.54236     0.37605354]\n",
      " [ 0.61418088 -1.14748108 -0.84219826 -1.33991163  0.63514932]\n",
      " [-0.5478607   0.38051564  0.59032216 -0.85268356 -0.11439589]\n",
      " [-0.65816043  1.36747506  1.91644042  0.49618981 -0.45801331]\n",
      " [ 2.33962253 -0.29760059 -0.08193828  0.09242051  1.30864269]\n",
      " [ 1.27016721  0.75762257 -0.09720304 -0.77878404  1.21416462]\n",
      " [-1.04585836  0.09517256 -0.57492046  0.59179716  1.07538486]\n",
      " [-1.35501588  0.32721088 -1.03179872  0.66663185 -0.54278275]\n",
      " [-0.44953614  1.04025395  0.54595826 -0.79001426  1.322444  ]\n",
      " [ 1.36295801 -2.04333171  0.65750697  0.74933483  0.70502751]\n",
      " [ 0.45252459 -1.12182048  0.55037058 -0.04446879 -0.13173137]\n",
      " [-0.10159211  0.32387427  0.28446002  0.21994898  1.09262306]\n",
      " [ 1.7340249  -0.59733184  0.45365256 -0.08883695  0.36770207]\n",
      " [-0.55866334 -0.64230106  0.96271526  1.13087265  0.85043408]\n",
      " [-0.17756157  0.44683915  1.10598844 -0.92248434  1.58990792]] \n",
      "\n",
      " [[-0.03761834  0.76325785  0.72373591]\n",
      " [ 1.27469445  1.01610112  0.62306697]\n",
      " [-0.05128617 -0.34822446  0.76937211]\n",
      " [-1.45204439  0.19643517 -1.01751548]\n",
      " [-1.72123828  0.32218908  1.58577888]]\n"
     ]
    }
   ],
   "source": [
    "w1 = generate_wt(30, 5)\n",
    "w2 = generate_wt(5, 3)\n",
    "\n",
    "print(w1, \"\\n\\n\", w2)"
   ]
  },
  {
   "cell_type": "code",
   "execution_count": 45,
   "id": "d0cfedb2-3d21-47ee-81b3-61b91fea6f3d",
   "metadata": {},
   "outputs": [
    {
     "name": "stdout",
     "output_type": "stream",
     "text": [
      "epochs: 1 ======== acc: 58.7056064127184\n",
      "epochs: 2 ======== acc: 64.0561674984554\n",
      "epochs: 3 ======== acc: 68.49637628804463\n",
      "epochs: 4 ======== acc: 71.7816489454155\n",
      "epochs: 5 ======== acc: 74.1420057082537\n",
      "epochs: 6 ======== acc: 75.88162582604477\n",
      "epochs: 7 ======== acc: 77.22711136551044\n",
      "epochs: 8 ======== acc: 78.321307460932\n",
      "epochs: 9 ======== acc: 79.25039156586753\n",
      "epochs: 10 ======== acc: 80.06683679900993\n",
      "epochs: 11 ======== acc: 80.80353070551328\n",
      "epochs: 12 ======== acc: 81.48168594065093\n",
      "epochs: 13 ======== acc: 82.11524612040897\n",
      "epochs: 14 ======== acc: 82.71344453221747\n",
      "epochs: 15 ======== acc: 83.28238567164095\n",
      "epochs: 16 ======== acc: 83.82608125801177\n",
      "epochs: 17 ======== acc: 84.34715594463069\n",
      "epochs: 18 ======== acc: 84.84733636320374\n",
      "epochs: 19 ======== acc: 85.32778954452147\n",
      "epochs: 20 ======== acc: 85.78935333595929\n",
      "epochs: 21 ======== acc: 86.23268872692576\n",
      "epochs: 22 ======== acc: 86.6583761652847\n",
      "epochs: 23 ======== acc: 87.06697251386608\n",
      "epochs: 24 ======== acc: 87.4590411930241\n",
      "epochs: 25 ======== acc: 87.8351648223419\n",
      "epochs: 26 ======== acc: 88.19594710332315\n",
      "epochs: 27 ======== acc: 88.5420086645269\n",
      "epochs: 28 ======== acc: 88.87398004186849\n",
      "epochs: 29 ======== acc: 89.1924938169317\n",
      "epochs: 30 ======== acc: 89.49817711307202\n",
      "epochs: 31 ======== acc: 89.7916450836482\n",
      "epochs: 32 ======== acc: 90.0734956562969\n",
      "epochs: 33 ======== acc: 90.34430556848613\n",
      "epochs: 34 ======== acc: 90.60462759975596\n",
      "epochs: 35 ======== acc: 90.8549888421948\n",
      "epochs: 36 ======== acc: 91.09588982869622\n",
      "epochs: 37 ======== acc: 91.32780434142059\n",
      "epochs: 38 ======== acc: 91.55117973919131\n",
      "epochs: 39 ======== acc: 91.76643766487898\n",
      "epochs: 40 ======== acc: 91.97397501763011\n",
      "epochs: 41 ======== acc: 92.17416509748875\n",
      "epochs: 42 ======== acc: 92.36735885022125\n",
      "epochs: 43 ======== acc: 92.55388615746975\n",
      "epochs: 44 ======== acc: 92.7340571316803\n",
      "epochs: 45 ======== acc: 92.90816338678817\n",
      "epochs: 46 ======== acc: 93.07647926473007\n",
      "epochs: 47 ======== acc: 93.23926300486276\n",
      "epochs: 48 ======== acc: 93.39675784866412\n",
      "epochs: 49 ======== acc: 93.54919307600828\n",
      "epochs: 50 ======== acc: 93.69678497213135\n",
      "epochs: 51 ======== acc: 93.8397377263795\n",
      "epochs: 52 ======== acc: 93.97824426515903\n",
      "epochs: 53 ======== acc: 94.11248702234897\n",
      "epochs: 54 ======== acc: 94.24263865091797\n",
      "epochs: 55 ======== acc: 94.36886267971107\n",
      "epochs: 56 ======== acc: 94.49131411941121\n",
      "epochs: 57 ======== acc: 94.61014002159726\n",
      "epochs: 58 ======== acc: 94.72547999465601\n",
      "epochs: 59 ======== acc: 94.8374666800922\n",
      "epochs: 60 ======== acc: 94.94622619254194\n",
      "epochs: 61 ======== acc: 95.05187852654629\n",
      "epochs: 62 ======== acc: 95.15453793289494\n",
      "epochs: 63 ======== acc: 95.25431326711048\n",
      "epochs: 64 ======== acc: 95.35130831241948\n",
      "epochs: 65 ======== acc: 95.44562207934494\n",
      "epochs: 66 ======== acc: 95.53734908386244\n",
      "epochs: 67 ======== acc: 95.6265796058839\n",
      "epochs: 68 ======== acc: 95.7133999296732\n",
      "epochs: 69 ======== acc: 95.79789256765072\n",
      "epochs: 70 ======== acc: 95.88013646891312\n",
      "epochs: 71 ======== acc: 95.96020721367566\n",
      "epochs: 72 ======== acc: 96.03817719473685\n",
      "epochs: 73 ======== acc: 96.11411578696914\n",
      "epochs: 74 ======== acc: 96.18808950575223\n",
      "epochs: 75 ======== acc: 96.26016215518672\n",
      "epochs: 76 ======== acc: 96.33039496685515\n",
      "epochs: 77 ======== acc: 96.39884672983298\n",
      "epochs: 78 ======== acc: 96.46557391259377\n",
      "epochs: 79 ======== acc: 96.53063077740053\n",
      "epochs: 80 ======== acc: 96.59406948772596\n",
      "epochs: 81 ======== acc: 96.65594020920207\n",
      "epochs: 82 ======== acc: 96.71629120455835\n",
      "epochs: 83 ======== acc: 96.77516892297244\n",
      "epochs: 84 ======== acc: 96.8326180842232\n",
      "epochs: 85 ======== acc: 96.88868175800584\n",
      "epochs: 86 ======== acc: 96.94340143874139\n",
      "epochs: 87 ======== acc: 96.99681711618626\n",
      "epochs: 88 ======== acc: 97.04896734212544\n",
      "epochs: 89 ======== acc: 97.0998892934101\n",
      "epochs: 90 ======== acc: 97.14961883158182\n",
      "epochs: 91 ======== acc: 97.19819055930647\n",
      "epochs: 92 ======== acc: 97.245637873825\n",
      "epochs: 93 ======== acc: 97.2919930176122\n",
      "epochs: 94 ======== acc: 97.33728712642115\n",
      "epochs: 95 ======== acc: 97.38155027487738\n",
      "epochs: 96 ======== acc: 97.42481151977553\n",
      "epochs: 97 ======== acc: 97.46709894121945\n",
      "epochs: 98 ======== acc: 97.50843968173729\n",
      "epochs: 99 ======== acc: 97.54885998349341\n",
      "epochs: 100 ======== acc: 97.58838522371019\n"
     ]
    }
   ],
   "source": [
    "def train(x, Y, w1, w2, alpha = 0.01, epoch = 10):\n",
    "\tacc =[]\n",
    "\tlosss =[]\n",
    "\tfor j in range(epoch):\n",
    "\t\tl =[]\n",
    "\t\tfor i in range(len(x)):\n",
    "\t\t\tout = f_forward(x[i], w1, w2)\n",
    "\t\t\tl.append((loss(out, Y[i])))\n",
    "\t\t\tw1, w2 = back_prop(x[i], y[i], w1, w2, alpha)\n",
    "\t\tprint(\"epochs:\", j + 1, \"======== acc:\", (1-(sum(l)/len(x)))*100) \n",
    "\t\tacc.append((1-(sum(l)/len(x)))*100)\n",
    "\t\tlosss.append(sum(l)/len(x))\n",
    "\treturn(acc, losss, w1, w2)\n",
    "\n",
    "acc, losss, w1, w2 = train(x, y, w1, w2, 0.1, 100)"
   ]
  },
  {
   "cell_type": "code",
   "execution_count": 47,
   "id": "f01e066c-3968-46d6-8165-7efbdc08c6dd",
   "metadata": {},
   "outputs": [
    {
     "data": {
      "image/png": "[encoded data removed]",
      "text/plain": [
       "<Figure size 640x480 with 1 Axes>"
      ]
     },
     "metadata": {},
     "output_type": "display_data"
    },
    {
     "data": {
      "image/png": "[encoded data removed]",
      "text/plain": [
       "<Figure size 640x480 with 1 Axes>"
      ]
     },
     "metadata": {},
     "output_type": "display_data"
    }
   ],
   "source": [
    "import matplotlib.pyplot as plt1\n",
    "\n",
    "# plotting accuracy\n",
    "plt1.plot(acc)\n",
    "plt1.ylabel('Accuracy')\n",
    "plt1.xlabel(\"Epochs:\")\n",
    "plt1.show()\n",
    "\n",
    "# plotting Loss\n",
    "plt1.plot(losss)\n",
    "plt1.ylabel('Loss')\n",
    "plt1.xlabel(\"Epochs:\")\n",
    "plt1.show()"
   ]
  },
  {
   "cell_type": "code",
   "execution_count": 49,
   "id": "c0961b66-77e1-4bda-b988-b678e48e8505",
   "metadata": {},
   "outputs": [
    {
     "name": "stdout",
     "output_type": "stream",
     "text": [
      "Image is of letter C.\n"
     ]
    },
    {
     "data": {
      "image/png": "[encoded data removed]",
      "text/plain": [
       "<Figure size 640x480 with 1 Axes>"
      ]
     },
     "metadata": {},
     "output_type": "display_data"
    }
   ],
   "source": [
    "def predict(x, w1, w2):\n",
    "\tOut = f_forward(x, w1, w2)\n",
    "\tmaxm = 0\n",
    "\tk = 0\n",
    "\tfor i in range(len(Out[0])):\n",
    "\t\tif(maxm<Out[0][i]):\n",
    "\t\t\tmaxm = Out[0][i]\n",
    "\t\t\tk = i\n",
    "\tif(k == 0):\n",
    "\t\tprint(\"Image is of letter A.\")\n",
    "\telif(k == 1):\n",
    "\t\tprint(\"Image is of letter B.\")\n",
    "\telse:\n",
    "\t\tprint(\"Image is of letter C.\")\n",
    "\tplt.imshow(x.reshape(5, 6))\n",
    "\tplt.show() \n",
    "# Example: Predicting for letter 'B'\t\n",
    "predict(x[2], w1, w2)"
   ]
  },
  {
   "cell_type": "code",
   "execution_count": null,
   "id": "83eb02ce-fdc5-490d-b95e-0c5d0ca3295b",
   "metadata": {},
   "outputs": [],
   "source": []
  }
 ],
 "metadata": {
  "kernelspec": {
   "display_name": "Python 3 (ipykernel)",
   "language": "python",
   "name": "python3"
  },
  "language_info": {
   "codemirror_mode": {
    "name": "ipython",
    "version": 3
   },
   "file_extension": ".py",
   "mimetype": "text/x-python",
   "name": "python",
   "nbconvert_exporter": "python",
   "pygments_lexer": "ipython3",
   "version": "3.13.7"
  }
 },
 "nbformat": 4,
 "nbformat_minor": 5
}
